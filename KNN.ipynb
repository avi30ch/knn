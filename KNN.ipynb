{
 "cells": [
  {
   "cell_type": "code",
   "execution_count": 4,
   "metadata": {},
   "outputs": [
    {
     "name": "stdout",
     "output_type": "stream",
     "text": [
      "Requirement already satisfied: rawpy in /Users/avichoudhary/opt/anaconda3/lib/python3.8/site-packages (0.16.0)\r\n",
      "Requirement already satisfied: numpy in /Users/avichoudhary/opt/anaconda3/lib/python3.8/site-packages (from rawpy) (1.18.5)\r\n"
     ]
    }
   ],
   "source": [
    "import numpy as np\n",
    "import pandas as pd\n",
    "from sklearn.neighbors import KNeighborsClassifier\n",
    "from PIL import Image\n",
    "from numpy import asarray\n",
    "from sklearn.model_selection import train_test_split\n",
    "!pip install rawpy\n",
    "import rawpy\n",
    "from os.path import dirname, join as pjoin\n",
    "import scipy.io as sio"
   ]
  },
  {
   "cell_type": "code",
   "execution_count": 5,
   "metadata": {},
   "outputs": [
    {
     "name": "stdout",
     "output_type": "stream",
     "text": [
      "[[0 0 0 ... 0 0 0]\n",
      " [0 0 0 ... 0 0 0]\n",
      " [0 0 0 ... 0 0 0]\n",
      " ...\n",
      " [0 0 0 ... 5 5 5]\n",
      " [0 0 0 ... 5 5 5]\n",
      " [0 0 0 ... 5 5 5]]\n"
     ]
    }
   ],
   "source": [
    "# X_train numpy array (536,400)\n",
    "matstruct_fname = 'input.mat'\n",
    "arr = sio.loadmat(matstruct_fname, struct_as_record = False)\n",
    "#print(arr)\n",
    "print(arr['m'])\n",
    "finalNA = arr['m']\n",
    "finalNA.shape\n",
    "#print(type(finalNA))\n",
    "fin = np.array([],[])\n",
    "fin.shape\n",
    "data1 = im.fromarray(finalNA)\n",
    "data1.save('first.png')"
   ]
  },
  {
   "cell_type": "code",
   "execution_count": 6,
   "metadata": {},
   "outputs": [],
   "source": [
    "#get distance from mean\n",
    "def distance(p1, mean):\n",
    "    dist = abs(p1-mean)\n",
    "    return dist"
   ]
  },
  {
   "cell_type": "code",
   "execution_count": 7,
   "metadata": {},
   "outputs": [
    {
     "name": "stdout",
     "output_type": "stream",
     "text": [
      "[0, 0]\n",
      "[0, 1]\n",
      "[1, 0]\n",
      "[1, 1]\n",
      "[2, 0]\n",
      "[2, 1]\n"
     ]
    }
   ],
   "source": [
    "hell = [[1,1],[2,2],[3,3]]\n",
    "for r in range(3):\n",
    "    for c in range(2):\n",
    "        print([r,c])"
   ]
  },
  {
   "cell_type": "code",
   "execution_count": 8,
   "metadata": {},
   "outputs": [],
   "source": [
    "def KNN():\n",
    "    #indexM = [[0,0],[0,0],[0,0], [0,0]]\n",
    "    mean = [0,85,170,255]\n",
    "    \n",
    "    for i in range(2):\n",
    "        values = [[0],[0],[0],[0]]\n",
    "        valr = [[0],[0],[0],[0]]\n",
    "        valc = [[0],[0],[0],[0]]\n",
    "        print(len(values[0]))\n",
    "        for r in range(len(finalNA)):\n",
    "            for c in range(len(finalNA[0])): \n",
    "                \n",
    "                min1 = distance(finalNA[r][c], mean[0])\n",
    "                temp = 0\n",
    "                \n",
    "                for x in range(1,4):\n",
    "                    dis = distance(finalNA[r][c], mean[x])\n",
    "                    if(min1 > dis):\n",
    "                        min1 = dis\n",
    "                        temp = x\n",
    "                values[temp].append(finalNA[r][c])\n",
    "                valr[temp].append(r)\n",
    "                valc[temp].append(c)\n",
    "                #indexM[temp].append([r,c])\n",
    "                \n",
    "        for j in range(len(values)):\n",
    "            add = 0\n",
    "            for f in range(1, len(values[j])):\n",
    "                add = add + values[j][f]\n",
    "            mean[j] = add/len(values[j])\n",
    "        print(mean)\n",
    "    tot8=0\n",
    "    #finalNA.astype(np.float)\n",
    "    for a in range(len(values)):\n",
    "        print(a)\n",
    "        print(len(values[a]))\n",
    "        for b in range(1,len(values[a])):\n",
    "            finalNA[valr[a][b], valc[a][b]] = mean[a]\n",
    "            if(finalNA[valr[a][b], valc[a][b]] == 162): tot8 = tot8+1\n",
    "    print(tot8)    \n",
    "    arr = finalNA.astype('float64')\n",
    "    return arr"
   ]
  },
  {
   "cell_type": "code",
   "execution_count": 9,
   "metadata": {},
   "outputs": [
    {
     "name": "stdout",
     "output_type": "stream",
     "text": [
      "1\n",
      "[8.248721884665947, 76.2633398424726, 167.44397721625444, 249.3481323396068]\n",
      "1\n",
      "[8.248721884665947, 74.1315648262876, 162.27483437665396, 248.48346325588435]\n",
      "0\n",
      "390223\n",
      "1\n",
      "102497\n",
      "2\n",
      "54793\n",
      "3\n",
      "92491\n",
      "54792\n"
     ]
    },
    {
     "data": {
      "text/plain": [
       "array([[8., 8., 8., ..., 8., 8., 8.],\n",
       "       [8., 8., 8., ..., 8., 8., 8.],\n",
       "       [8., 8., 8., ..., 8., 8., 8.],\n",
       "       ...,\n",
       "       [8., 8., 8., ..., 8., 8., 8.],\n",
       "       [8., 8., 8., ..., 8., 8., 8.],\n",
       "       [8., 8., 8., ..., 8., 8., 8.]])"
      ]
     },
     "execution_count": 9,
     "metadata": {},
     "output_type": "execute_result"
    }
   ],
   "source": [
    "KNN()"
   ]
  },
  {
   "cell_type": "code",
   "execution_count": 10,
   "metadata": {},
   "outputs": [],
   "source": [
    "from PIL import Image as im\n",
    "data = im.fromarray(finalNA)\n",
    "data.save('output.png')"
   ]
  },
  {
   "cell_type": "code",
   "execution_count": null,
   "metadata": {},
   "outputs": [],
   "source": []
  }
 ],
 "metadata": {
  "kernelspec": {
   "display_name": "Python 3",
   "language": "python",
   "name": "python3"
  },
  "language_info": {
   "codemirror_mode": {
    "name": "ipython",
    "version": 3
   },
   "file_extension": ".py",
   "mimetype": "text/x-python",
   "name": "python",
   "nbconvert_exporter": "python",
   "pygments_lexer": "ipython3",
   "version": "3.8.3"
  }
 },
 "nbformat": 4,
 "nbformat_minor": 4
}
